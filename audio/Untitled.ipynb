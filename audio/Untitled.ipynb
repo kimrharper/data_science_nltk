{
 "cells": [
  {
   "cell_type": "raw",
   "metadata": {},
   "source": [
    "for Mac:\n",
    "    brew install ffmpeg\n",
    "    \n",
    "for Windows?\n",
    "for Linux? <-- These guys can fend for themselves"
   ]
  },
  {
   "cell_type": "raw",
   "metadata": {},
   "source": [
    "!pip install ffmpeg-python\n",
    "!pip install pydub\n",
    "!pip install speechrecognition"
   ]
  },
  {
   "cell_type": "markdown",
   "metadata": {},
   "source": [
    "-----"
   ]
  },
  {
   "cell_type": "markdown",
   "metadata": {},
   "source": [
    "## Method 1: w/ Google ML!"
   ]
  },
  {
   "cell_type": "code",
   "execution_count": 22,
   "metadata": {},
   "outputs": [],
   "source": [
    "import scipy.io.wavfile as wav\n",
    "import speech_recognition as sr\n",
    "from pydub import AudioSegment"
   ]
  },
  {
   "cell_type": "code",
   "execution_count": 29,
   "metadata": {},
   "outputs": [],
   "source": [
    "sound = AudioSegment.from_wav('recordings/5_jackson_5.wav')"
   ]
  },
  {
   "cell_type": "code",
   "execution_count": 30,
   "metadata": {},
   "outputs": [
    {
     "data": {
      "text/html": [
       "\n",
       "                    <audio controls>\n",
       "                        <source src=\"data:audio/mpeg;base64,SUQzBAAAAAAAI1RTU0UAAAAPAAADTGF2ZjU4LjIwLjEwMAAAAAAAAAAAAAAA/+M4wAAAAAAAAAAAAEluZm8AAAAPAAAACAAAAxgAXV1dXV1dXV1dXV1ddHR0dHR0dHR0dHR0i4uLi4uLi4uLi4uLi6KioqKioqKioqKiorq6urq6urq6urq6urrR0dHR0dHR0dHR0dHo6Ojo6Ojo6Ojo6Ojo////////////////AAAAAExhdmM1OC4zNQAAAAAAAAAAAAAAACQDpgAAAAAAAAMYPjPl1AAAAAAAAAAAAAAAAAAAAAAAAAAAAAAAAAAAAAAAAAAAAAAAAAAAAAAAAAAAAAAA/+MYxAALcJp8IUUAABf///0EAOHz1OHzoHw+OOEy5+IDkniQ5KHP+H///////6gff4gBAMA+D4fgQEH/+B98oLf36Y+1nHuh/+MYxA0QYabEAYtoAIbqLjEucBAnIPGy7qYbDZAehuSiRWIMoYoEDqZvErTZ95eJiUwRQV//d/7IoTRv/////9qFEkIAEkAg/+MYxAYOqXbqWccoAP6gSs/MCBvlBwu30HzfnuW6VODI2fZUFAZvhwNFeggUWFfugm3ZBQaMEZMVBNbf////6+tCErhAp0QQ/+MYxAYN2N7qOAHQAIwcu3ywJh7/5Ysc3q4hlHN/vXP8lDTV3dhYFQkLhXuOnk/rysVMrOJd6gix6////7kVPkA+7INI4xvF/+MYxAkNOLrRkAKMDJDb4zMfxmLgrfjlNXfJOPIpPUfeSPDJDGgqLKPfK/JOmD1LtKbb6qaP/7RKz7dkNHg0DLLZq0xyrSGi/+MYxA8MqL6sAAMMECqEo6mNf5oehu1rzn6R514NKhoFQCHav/9XkKzIpShZB5HpfTUm2/K67gCgqZgZL1rbLSaRV5nAZH///+MYxBcLkN6MKAMMBPmWp5mZ9ETISQHe4n//4ds8iW4d9Z3klT2hGigMDMtBaJI0pnp2NOEgQEeYDgsLCrIqKC0WFhX9YqLN/+MYxCML+Hn0AAmMAIsLiuKi38WFf/rFG9hMQU1FMy4xMDCqqqqqqqqqqqqqqqqqqqqqqqqqqqqqqqqqqqqqqqqqqqqqqqqq\" type=\"audio/mpeg\"/>\n",
       "                        Your browser does not support the audio element.\n",
       "                    </audio>\n",
       "                  "
      ],
      "text/plain": [
       "<pydub.audio_segment.AudioSegment at 0x10cfed630>"
      ]
     },
     "execution_count": 30,
     "metadata": {},
     "output_type": "execute_result"
    }
   ],
   "source": [
    "sound"
   ]
  },
  {
   "cell_type": "code",
   "execution_count": 19,
   "metadata": {},
   "outputs": [
    {
     "name": "stdout",
     "output_type": "stream",
     "text": [
      "Length in milliseconds of the first sample of the sound file:  644\n"
     ]
    }
   ],
   "source": [
    "Percent = len(sound)\n",
    "print('Length in milliseconds of the first sample of the sound file: ', Percent)\n",
    "FirstPercent = sound[:Percent]"
   ]
  },
  {
   "cell_type": "code",
   "execution_count": 37,
   "metadata": {},
   "outputs": [
    {
     "name": "stdout",
     "output_type": "stream",
     "text": [
      "The audio file contains: 1\n"
     ]
    }
   ],
   "source": [
    "AUDIO_FILE = ('recordings/1_jackson_0.wav') \n",
    "\n",
    "# use the audio file as the audio source \n",
    "\n",
    "r = sr.Recognizer() \n",
    "\n",
    "with sr.AudioFile(AUDIO_FILE) as source:  \n",
    "    audio = r.record(source) \n",
    "    \n",
    "    try: \n",
    "        print(\"The audio file contains: \" + r.recognize_google(audio)) \n",
    "\n",
    "    except sr.UnknownValueError: \n",
    "        print(\"Google Speech Recognition could not understand audio\") \n",
    "\n",
    "    except sr.RequestError as e: \n",
    "        print(\"Could not request results from Google Speech Recognition service; {0}\".format(e))"
   ]
  },
  {
   "cell_type": "markdown",
   "metadata": {},
   "source": [
    "-------------"
   ]
  },
  {
   "cell_type": "markdown",
   "metadata": {},
   "source": [
    "## Method 2: w/ Signal Processing"
   ]
  },
  {
   "cell_type": "code",
   "execution_count": null,
   "metadata": {},
   "outputs": [],
   "source": []
  },
  {
   "cell_type": "code",
   "execution_count": 38,
   "metadata": {},
   "outputs": [],
   "source": [
    "rate,audData=wav.read('recordings/1_jackson_0.wav')"
   ]
  },
  {
   "cell_type": "code",
   "execution_count": 39,
   "metadata": {},
   "outputs": [
    {
     "data": {
      "text/plain": [
       "8000"
      ]
     },
     "execution_count": 39,
     "metadata": {},
     "output_type": "execute_result"
    }
   ],
   "source": [
    "rate"
   ]
  },
  {
   "cell_type": "code",
   "execution_count": 41,
   "metadata": {},
   "outputs": [
    {
     "data": {
      "text/plain": [
       "(4138,)"
      ]
     },
     "execution_count": 41,
     "metadata": {},
     "output_type": "execute_result"
    }
   ],
   "source": [
    "audData.shape"
   ]
  },
  {
   "cell_type": "code",
   "execution_count": 42,
   "metadata": {},
   "outputs": [
    {
     "data": {
      "text/plain": [
       "0.51725"
      ]
     },
     "execution_count": 42,
     "metadata": {},
     "output_type": "execute_result"
    }
   ],
   "source": [
    "audData.shape[0] / rate"
   ]
  },
  {
   "cell_type": "code",
   "execution_count": null,
   "metadata": {},
   "outputs": [],
   "source": []
  }
 ],
 "metadata": {
  "kernelspec": {
   "display_name": "Python 3",
   "language": "python",
   "name": "python3"
  },
  "language_info": {
   "codemirror_mode": {
    "name": "ipython",
    "version": 3
   },
   "file_extension": ".py",
   "mimetype": "text/x-python",
   "name": "python",
   "nbconvert_exporter": "python",
   "pygments_lexer": "ipython3",
   "version": "3.6.1"
  }
 },
 "nbformat": 4,
 "nbformat_minor": 2
}
