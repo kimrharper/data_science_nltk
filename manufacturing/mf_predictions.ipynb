{
 "cells": [
  {
   "cell_type": "code",
   "execution_count": 1,
   "metadata": {},
   "outputs": [
    {
     "name": "stdout",
     "output_type": "stream",
     "text": [
      "train_numeric.csv loaded...\n",
      "train_date.csv loaded...\n",
      "test_numeric.csv loaded...\n",
      "test_date.csv loaded...\n"
     ]
    }
   ],
   "source": [
    "from utils.mf_predictions import *"
   ]
  },
  {
   "cell_type": "markdown",
   "metadata": {},
   "source": [
    "# __<font color='blue'>Bosch Manufacturing</font>__"
   ]
  },
  {
   "cell_type": "markdown",
   "metadata": {},
   "source": [
    "# __<font color='darkblue'> Part 3: Predictions (Small Data)</font>__"
   ]
  },
  {
   "cell_type": "markdown",
   "metadata": {},
   "source": [
    "[[Part 1]](https://kimrharper.github.io/project-mf-1.html) [[Part 2]](https://kimrharper.github.io/project-mf-2.html)"
   ]
  },
  {
   "cell_type": "markdown",
   "metadata": {},
   "source": [
    "------"
   ]
  },
  {
   "cell_type": "markdown",
   "metadata": {},
   "source": [
    "__Author:__ [Ryan Harper](www.kimrharper.com) <br><br>\n",
    "__Data Source:__ [Bosch Dataset via Kaggle](https://www.kaggle.com/c/bosch-production-line-performance/data) <br> <br>\n",
    "__Background:__ Bosch is a home appliance and industrial tools manufacturing company. In 2017, Bosch supplied Kaggle.com with manufacturing data to promote a competition. The goal of the competition was to determine factors that influence whether or not the product passes the final response stage of manufacturing and to predict which products are likely to fail based on this manufacturing process.<br> <br>\n",
    "__The Data:__ Early exploration of this data will use a subset of the big data provided by Bosch. The data is provided by [Hitesh, John, and Matthew via PDX Data Science Meetup](https://www.meetup.com/Portland-Data-Science-Group/events/257370691/). The data subset is divided into 2 groups of 3 files (3 training, 3 test). Each group has one csv file each for numerical features ('numeric'), dates ('date'), and the manufacturing path ('cat'). The data subset includes a larger percentage of products that failed the response test, but not much more is known about this subsampling method.<br><br>\n",
    "__Assumptions:__ ID # represents a specific product and that there is only one product. The differences in assembly are due to customization and/or differences between lines.<br><br>\n",
    "__Goal:__ Predict which products will fail the response test. <br><br>"
   ]
  },
  {
   "cell_type": "markdown",
   "metadata": {},
   "source": [
    "----"
   ]
  },
  {
   "cell_type": "markdown",
   "metadata": {},
   "source": [
    "# 1. RF Predictions"
   ]
  },
  {
   "cell_type": "markdown",
   "metadata": {},
   "source": [
    "### A. Import Data"
   ]
  },
  {
   "cell_type": "code",
   "execution_count": 2,
   "metadata": {},
   "outputs": [],
   "source": [
    "# Retrieve vars from mf_stats_analysis.ipynb | quick var import\n",
    "%store -r skewed_features\n",
    "%store -r sig_diff_list\n",
    "sig_diff_list.append(len(mf_num_data.columns)-1) # Adding response column index"
   ]
  },
  {
   "cell_type": "code",
   "execution_count": 3,
   "metadata": {},
   "outputs": [
    {
     "data": {
      "text/plain": [
       "array(['Response'], dtype=object)"
      ]
     },
     "execution_count": 3,
     "metadata": {},
     "output_type": "execute_result"
    }
   ],
   "source": [
    "# mf_merged_train = merge_dfs(mf_num_data, mf_date_data, True)\n",
    "# del mf_merged_train['L1_S24_D1562']\n",
    "# mf_merged_test = merge_dfs(mf_num_data_test, mf_date_data_test, False)\n",
    "\n",
    "## Code to find the random column that is not included in the test set\n",
    "np.setdiff1d(np.array(mf_num_data.columns),np.array(mf_num_data_test.columns))"
   ]
  },
  {
   "cell_type": "code",
   "execution_count": 17,
   "metadata": {},
   "outputs": [],
   "source": [
    "ms_mcc = make_scorer(matthews_corrcoef)\n",
    "TEST_PER = .3\n",
    "\n",
    "def process_predictions(df):\n",
    "    ytr = df['Response'].values\n",
    "    Xtr = df.iloc[:,~df.columns.isin(['Response'])]\n",
    "    Xtr.fillna(0, inplace=True)\n",
    "    Xte = mf_num_data\n",
    "    Xte.fillna(0, inplace=True)\n",
    "        \n",
    "    return Xtr, ytr, Xte\n",
    "\n",
    "def save_to_csv(pred, title):\n",
    "    final_predic = pd.DataFrame(mf_num_data_test.iloc[:,0])\n",
    "    final_predic.index = final_predic['Id']\n",
    "    final_predic['Response'] = pred\n",
    "    pd.DataFrame(final_predic).to_csv(title) \n",
    "    \n",
    "def final_predictions(data, title):\n",
    "    X_train, y_train, X_test = process_predictions(data)\n",
    "    rf = RandomForestClassifier(n_estimators=100, criterion='entropy', n_jobs=4, class_weight='balanced', verbose=1)\n",
    "    rf.fit(X_train, y_train)\n",
    "    predictions = rf.predict(X_test)\n",
    "    save_to_csv(predictions, title)"
   ]
  },
  {
   "cell_type": "code",
   "execution_count": 7,
   "metadata": {},
   "outputs": [],
   "source": [
    "transformed_df = mf_num_data\n",
    "for f in skewed_features:\n",
    "    transformed_df[f] = np.log(1+ transformed_df[f])\n",
    "all_transformed_df = mf_num_data\n",
    "for f in list(all_transformed_df.columns[1:-1]):\n",
    "    all_transformed_df[f] = np.log(1+ all_transformed_df[f])    "
   ]
  },
  {
   "cell_type": "markdown",
   "metadata": {},
   "source": [
    "Function for Outputting Predictions to CSV:"
   ]
  },
  {
   "cell_type": "raw",
   "metadata": {},
   "source": [
    "final_predictions(mf_num_data, 'RH-ND-NoTransform.csv')"
   ]
  },
  {
   "cell_type": "raw",
   "metadata": {},
   "source": [
    "final_predictions(transformed_df, 'RH-ND-SkewTransform.csv')"
   ]
  },
  {
   "cell_type": "raw",
   "metadata": {},
   "source": [
    "final_predictions(all_transformed_df, 'RH-ND-AllTransform.csv')"
   ]
  },
  {
   "cell_type": "markdown",
   "metadata": {},
   "source": [
    "------"
   ]
  },
  {
   "cell_type": "markdown",
   "metadata": {},
   "source": [
    "__NOTE: Best Prediction:__ <br>\n",
    "0.41037390395473183<br>RandomForestClassifier(n_estimators=100, criterion='entropy', n_jobs=4,class_weight='balanced', verbose=1) <br>RFE(estimator, step=.05)"
   ]
  },
  {
   "cell_type": "code",
   "execution_count": null,
   "metadata": {},
   "outputs": [],
   "source": []
  }
 ],
 "metadata": {
  "kernelspec": {
   "display_name": "Python 3",
   "language": "python",
   "name": "python3"
  },
  "language_info": {
   "codemirror_mode": {
    "name": "ipython",
    "version": 3
   },
   "file_extension": ".py",
   "mimetype": "text/x-python",
   "name": "python",
   "nbconvert_exporter": "python",
   "pygments_lexer": "ipython3",
   "version": "3.6.1"
  }
 },
 "nbformat": 4,
 "nbformat_minor": 2
}
