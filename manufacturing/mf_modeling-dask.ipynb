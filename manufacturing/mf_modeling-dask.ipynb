{
 "cells": [
  {
   "cell_type": "code",
   "execution_count": 1,
   "metadata": {},
   "outputs": [],
   "source": [
    "from utils.mf_modeling_dask.py import *"
   ]
  },
  {
   "cell_type": "code",
   "execution_count": 2,
   "metadata": {},
   "outputs": [],
   "source": [
    "from dask_ml.xgboost import XGBRegressor, XGBClassifier"
   ]
  },
  {
   "cell_type": "markdown",
   "metadata": {},
   "source": [
    "# __<font color='blue'>Bosch Manufacturing</font>__"
   ]
  },
  {
   "cell_type": "code",
   "execution_count": null,
   "metadata": {},
   "outputs": [],
   "source": [
    "Spark - Dask Implementation"
   ]
  },
  {
   "cell_type": "markdown",
   "metadata": {},
   "source": [
    "# __<font color='darkblue'> Part 5: Modeling</font>__"
   ]
  },
  {
   "cell_type": "code",
   "execution_count": null,
   "metadata": {},
   "outputs": [],
   "source": []
  },
  {
   "cell_type": "markdown",
   "metadata": {},
   "source": [
    "c=Client('192.168.1.105:8786');c"
   ]
  },
  {
   "cell_type": "markdown",
   "metadata": {},
   "source": [
    "X_train = mf_num_test_data.iloc[:,0:-1].persist()\n",
    "y_train = mf_num_data.iloc[:,-1].persist()\n",
    "X_test = mf_num_test_data.persist()"
   ]
  },
  {
   "cell_type": "markdown",
   "metadata": {},
   "source": [
    "### B. Predictions"
   ]
  },
  {
   "cell_type": "markdown",
   "metadata": {},
   "source": [
    "from sklearn.ensemble import RandomForestClassifier"
   ]
  },
  {
   "cell_type": "markdown",
   "metadata": {},
   "source": [
    "from sklearn.externals.joblib import parallel_backend\n",
    "with parallel_backend(backend='dask', scheduler_host='192.168.1.105:8786'):\n",
    "    # Import Files\n",
    "    mf_num_data1 = dd.read_csv('bosch_small_data/train_numeric.csv').sample(frac=.1)\n",
    "    mf_num_test_data1 = dd.read_csv('bosch_small_data/test_numeric.csv').sample(frac=.1)\n",
    "    X_train = mf_num_data1.iloc[:,0:-1].fillna(mf_num_data1.mean()).persist()\n",
    "    y_train = mf_num_data1.iloc[:,-1].persist()\n",
    "    X_test = mf_num_test_data1.fillna(mf_num_test_data1.mean()).persist()\n",
    "    rf = RandomForestClassifier(n_estimators=1000, criterion='entropy', n_jobs=4,class_weight='balanced', verbose=1)\n",
    "    rf.fit(X_train, y_train)"
   ]
  },
  {
   "cell_type": "markdown",
   "metadata": {},
   "source": [
    "with parallel_backend(backend='dask', scheduler_host='192.168.1.105:8786'):\n",
    "    y_predict = rf.predict(X_test)"
   ]
  },
  {
   "cell_type": "markdown",
   "metadata": {},
   "source": [
    "est = XGBClassifier()\n",
    "est.fit(X_train, y_train)\n",
    "prediction = est.predict()"
   ]
  },
  {
   "cell_type": "markdown",
   "metadata": {},
   "source": [
    "-----"
   ]
  },
  {
   "cell_type": "raw",
   "metadata": {},
   "source": []
  },
  {
   "cell_type": "raw",
   "metadata": {},
   "source": []
  },
  {
   "cell_type": "raw",
   "metadata": {},
   "source": []
  }
 ],
 "metadata": {
  "kernelspec": {
   "display_name": "Python 3",
   "language": "python",
   "name": "python3"
  },
  "language_info": {
   "codemirror_mode": {
    "name": "ipython",
    "version": 3
   },
   "file_extension": ".py",
   "mimetype": "text/x-python",
   "name": "python",
   "nbconvert_exporter": "python",
   "pygments_lexer": "ipython3",
   "version": "3.6.1"
  }
 },
 "nbformat": 4,
 "nbformat_minor": 2
}
