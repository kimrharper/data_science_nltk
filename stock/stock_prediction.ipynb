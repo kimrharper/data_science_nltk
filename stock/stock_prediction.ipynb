{
 "cells": [
  {
   "cell_type": "markdown",
   "metadata": {},
   "source": [
    "*Ryan Harper*\n",
    "\n",
    "### Non-NN Stocks Predictor:"
   ]
  },
  {
   "cell_type": "markdown",
   "metadata": {},
   "source": [
    "**INDICATORS:** <br>\n",
    "<font color=blue>__HOUST__</font> : Housing Starts: Total: New Privately Owned Housing Units Started <br>\n",
    "<font color=blue>__UNRATENSA__</font>:Civilian Unemployment Rate NSA<br>\n",
    "<font color=blue>__EMRATIO__</font>: Civilian Employment-Population Ratio<br>\n",
    "<font color=blue>__UEMPMED__</font>: Median Duration of Unemployment<br>\n",
    "<font color=blue>__UMCSENT__</font>: University of Michigan: Consumer Sentiment<br>\n",
    "<font color=blue>__USSLIND__</font>: Leading Index For United States<br>\n",
    "<font color=blue>__KCFSI__</font>: Kansas City Financial Stress Index<br>\n",
    "<font color=blue>__IPMAN__</font></font>: Industrial Production: Manufacturing (NAICS)<br>\n",
    "<font color=blue>__VIXCLS__</font>: CBOE Volatility Index: NSA<br>\n",
    "<font color=blue>__DGS10__</font>: 10-Year Treasury Constant Maturity Rate<br>"
   ]
  },
  {
   "cell_type": "code",
   "execution_count": 2,
   "metadata": {
    "collapsed": true
   },
   "outputs": [],
   "source": [
    "import pandas as pd\n",
    "import numpy as np\n",
    "# from pandas_datareader import data, wb\n",
    "import numpy as np\n",
    "import matplotlib.pyplot as plt\n",
    "from scipy import stats\n",
    "import statsmodels.formula.api as smf\n",
    "from sklearn.preprocessing import MinMaxScaler\n",
    "import seaborn as sns"
   ]
  },
  {
   "cell_type": "code",
   "execution_count": 3,
   "metadata": {},
   "outputs": [
    {
     "name": "stdout",
     "output_type": "stream",
     "text": [
      "|Utilities|Basic Materials|Consumer Goods|Industrial Goods|Healthcare|Services|Financial|Technology|Conglomerates|"
     ]
    }
   ],
   "source": [
    "# ======== clean csv files ========\n",
    "\n",
    "# indicators csv (drops blank first row, gets rid of dt indicator columns, sets index to datetime)\n",
    "indicators = pd.read_csv('Indicators_train.csv').iloc[1:].dropna(how='all')\n",
    "indicators.date = pd.to_datetime(indicators.date)\n",
    "for column in indicators:\n",
    "    if 'dt' in column:\n",
    "        del indicators[column]\n",
    "    elif 'date' in column:\n",
    "        continue\n",
    "    else:\n",
    "        indicators[column] = indicators[column].astype(float)\n",
    "indicators = indicators.set_index(indicators.date)\n",
    "del indicators['date']\n",
    "\n",
    "# stock - csv (sets index to datetime)\n",
    "stock = pd.read_csv('stocks-us-adjClose.csv')\n",
    "stock.date = pd.to_datetime(stock.date)\n",
    "stock = stock.set_index(stock.date)\n",
    "del stock['date']\n",
    "\n",
    "# sector - csv (loads csv and prints sectors for reference)\n",
    "sector = pd.read_csv('Company_information.csv', encoding = \"ISO-8859-1\")\n",
    "seclist = sector.Sector.unique()\n",
    "sectorset = []\n",
    "print('|',end='')\n",
    "for member in seclist:\n",
    "    if str(member) != 'nan':\n",
    "        sectorset.append(member)\n",
    "        print(member, end='|') "
   ]
  },
  {
   "cell_type": "code",
   "execution_count": 4,
   "metadata": {
    "collapsed": true
   },
   "outputs": [],
   "source": [
    "# filters stock dataframe by sector and stores to new sector_dataframe\n",
    "utilities = pd.DataFrame(data=stock, columns=sector.loc[sector['Sector'] == 'Utilities']['Symbol'].tolist())\n",
    "basicmaterials = pd.DataFrame(data=stock, columns=sector.loc[sector['Sector'] == 'Basic Materials']['Symbol'].tolist())\n",
    "consumer = pd.DataFrame(data=stock, columns=sector.loc[sector['Sector'] == 'Consumer Goods']['Symbol'].tolist())\n",
    "industrial = pd.DataFrame(data=stock, columns=sector.loc[sector['Sector'] == 'Industrial Goods']['Symbol'].tolist())\n",
    "healthcare = pd.DataFrame(data=stock, columns=sector.loc[sector['Sector'] == 'Healthcare']['Symbol'].tolist())\n",
    "services = pd.DataFrame(data=stock, columns=sector.loc[sector['Sector'] == 'Services']['Symbol'].tolist())\n",
    "financial = pd.DataFrame(data=stock, columns=sector.loc[sector['Sector'] == 'Financial']['Symbol'].tolist())\n",
    "technology = pd.DataFrame(data=stock, columns=sector.loc[sector['Sector'] == 'Technology']['Symbol'].tolist())\n",
    "conglomerates = pd.DataFrame(data=stock, columns=sector.loc[sector['Sector'] == 'Conglomerates']['Symbol'].tolist())\n",
    "\n",
    "# Merges sector dataframes with indicators\n",
    "indic_utilities = pd.merge(utilities,indicators, how='inner', left_index=True, right_index=True).dropna(how='any')\n",
    "indic_basicmaterials = pd.merge(basicmaterials,indicators, how='inner', left_index=True, right_index=True).dropna(how='any')\n",
    "indic_health = pd.merge(healthcare,indicators, how='inner', left_index=True, right_index=True).dropna(how='any')\n",
    "\n",
    "### NOTE: NEED TO DROP DUPLICATE DATES (about 20 of them e.g. 2017-09-05) with '.drop_duplicates(keep='first')'"
   ]
  },
  {
   "cell_type": "code",
   "execution_count": 5,
   "metadata": {},
   "outputs": [
    {
     "data": {
      "text/html": [
       "<div>\n",
       "<style scoped>\n",
       "    .dataframe tbody tr th:only-of-type {\n",
       "        vertical-align: middle;\n",
       "    }\n",
       "\n",
       "    .dataframe tbody tr th {\n",
       "        vertical-align: top;\n",
       "    }\n",
       "\n",
       "    .dataframe thead th {\n",
       "        text-align: right;\n",
       "    }\n",
       "</style>\n",
       "<table border=\"1\" class=\"dataframe\">\n",
       "  <thead>\n",
       "    <tr style=\"text-align: right;\">\n",
       "      <th></th>\n",
       "      <th>LLY</th>\n",
       "      <th>MYL</th>\n",
       "      <th>TMO</th>\n",
       "      <th>BDX</th>\n",
       "      <th>NVO</th>\n",
       "      <th>HUM</th>\n",
       "      <th>THC</th>\n",
       "      <th>VIVO</th>\n",
       "      <th>TFX</th>\n",
       "      <th>TECH</th>\n",
       "      <th>...</th>\n",
       "      <th>HOUST</th>\n",
       "      <th>UNRATENSA</th>\n",
       "      <th>EMRATIO</th>\n",
       "      <th>UEMPMED</th>\n",
       "      <th>UMCSENT</th>\n",
       "      <th>USSLIND</th>\n",
       "      <th>KCFSI</th>\n",
       "      <th>IPMAN</th>\n",
       "      <th>VIXCLS</th>\n",
       "      <th>DGS10</th>\n",
       "    </tr>\n",
       "    <tr>\n",
       "      <th>date</th>\n",
       "      <th></th>\n",
       "      <th></th>\n",
       "      <th></th>\n",
       "      <th></th>\n",
       "      <th></th>\n",
       "      <th></th>\n",
       "      <th></th>\n",
       "      <th></th>\n",
       "      <th></th>\n",
       "      <th></th>\n",
       "      <th></th>\n",
       "      <th></th>\n",
       "      <th></th>\n",
       "      <th></th>\n",
       "      <th></th>\n",
       "      <th></th>\n",
       "      <th></th>\n",
       "      <th></th>\n",
       "      <th></th>\n",
       "      <th></th>\n",
       "      <th></th>\n",
       "    </tr>\n",
       "  </thead>\n",
       "  <tbody>\n",
       "    <tr>\n",
       "      <th>2017-09-05</th>\n",
       "      <td>79.820000</td>\n",
       "      <td>31.590000</td>\n",
       "      <td>185.874283</td>\n",
       "      <td>199.336929</td>\n",
       "      <td>46.980000</td>\n",
       "      <td>257.118713</td>\n",
       "      <td>17.690001</td>\n",
       "      <td>13.95</td>\n",
       "      <td>210.940002</td>\n",
       "      <td>121.150002</td>\n",
       "      <td>...</td>\n",
       "      <td>1155.0</td>\n",
       "      <td>4.5</td>\n",
       "      <td>60.1</td>\n",
       "      <td>10.5</td>\n",
       "      <td>96.8</td>\n",
       "      <td>1.22</td>\n",
       "      <td>-0.73</td>\n",
       "      <td>104.1579</td>\n",
       "      <td>10.13</td>\n",
       "      <td>2.12</td>\n",
       "    </tr>\n",
       "    <tr>\n",
       "      <th>2017-09-05</th>\n",
       "      <td>79.820000</td>\n",
       "      <td>31.590000</td>\n",
       "      <td>185.874283</td>\n",
       "      <td>199.336929</td>\n",
       "      <td>46.980000</td>\n",
       "      <td>257.118713</td>\n",
       "      <td>17.690001</td>\n",
       "      <td>13.95</td>\n",
       "      <td>210.940002</td>\n",
       "      <td>121.150002</td>\n",
       "      <td>...</td>\n",
       "      <td>1155.0</td>\n",
       "      <td>4.5</td>\n",
       "      <td>60.1</td>\n",
       "      <td>10.5</td>\n",
       "      <td>96.8</td>\n",
       "      <td>1.22</td>\n",
       "      <td>-0.73</td>\n",
       "      <td>104.1579</td>\n",
       "      <td>12.23</td>\n",
       "      <td>2.12</td>\n",
       "    </tr>\n",
       "    <tr>\n",
       "      <th>2017-09-06</th>\n",
       "      <td>80.510002</td>\n",
       "      <td>32.240002</td>\n",
       "      <td>189.261627</td>\n",
       "      <td>198.499985</td>\n",
       "      <td>47.840000</td>\n",
       "      <td>256.449860</td>\n",
       "      <td>17.150000</td>\n",
       "      <td>14.05</td>\n",
       "      <td>225.410004</td>\n",
       "      <td>121.660004</td>\n",
       "      <td>...</td>\n",
       "      <td>1155.0</td>\n",
       "      <td>4.5</td>\n",
       "      <td>60.1</td>\n",
       "      <td>10.5</td>\n",
       "      <td>96.8</td>\n",
       "      <td>1.22</td>\n",
       "      <td>-0.73</td>\n",
       "      <td>104.1579</td>\n",
       "      <td>11.63</td>\n",
       "      <td>2.07</td>\n",
       "    </tr>\n",
       "    <tr>\n",
       "      <th>2017-09-07</th>\n",
       "      <td>81.540001</td>\n",
       "      <td>31.910000</td>\n",
       "      <td>190.440689</td>\n",
       "      <td>199.570007</td>\n",
       "      <td>48.500000</td>\n",
       "      <td>256.100433</td>\n",
       "      <td>16.950001</td>\n",
       "      <td>13.90</td>\n",
       "      <td>227.139999</td>\n",
       "      <td>120.620003</td>\n",
       "      <td>...</td>\n",
       "      <td>1155.0</td>\n",
       "      <td>4.5</td>\n",
       "      <td>60.1</td>\n",
       "      <td>10.5</td>\n",
       "      <td>96.8</td>\n",
       "      <td>1.22</td>\n",
       "      <td>-0.73</td>\n",
       "      <td>104.1579</td>\n",
       "      <td>11.55</td>\n",
       "      <td>2.10</td>\n",
       "    </tr>\n",
       "    <tr>\n",
       "      <th>2017-09-08</th>\n",
       "      <td>82.919998</td>\n",
       "      <td>32.099998</td>\n",
       "      <td>191.479889</td>\n",
       "      <td>203.699997</td>\n",
       "      <td>47.970001</td>\n",
       "      <td>256.130371</td>\n",
       "      <td>16.600000</td>\n",
       "      <td>13.90</td>\n",
       "      <td>232.750000</td>\n",
       "      <td>119.910004</td>\n",
       "      <td>...</td>\n",
       "      <td>1155.0</td>\n",
       "      <td>4.5</td>\n",
       "      <td>60.1</td>\n",
       "      <td>10.5</td>\n",
       "      <td>96.8</td>\n",
       "      <td>1.22</td>\n",
       "      <td>-0.73</td>\n",
       "      <td>104.1579</td>\n",
       "      <td>12.12</td>\n",
       "      <td>2.05</td>\n",
       "    </tr>\n",
       "  </tbody>\n",
       "</table>\n",
       "<p>5 rows × 59 columns</p>\n",
       "</div>"
      ],
      "text/plain": [
       "                  LLY        MYL         TMO         BDX        NVO  \\\n",
       "date                                                                  \n",
       "2017-09-05  79.820000  31.590000  185.874283  199.336929  46.980000   \n",
       "2017-09-05  79.820000  31.590000  185.874283  199.336929  46.980000   \n",
       "2017-09-06  80.510002  32.240002  189.261627  198.499985  47.840000   \n",
       "2017-09-07  81.540001  31.910000  190.440689  199.570007  48.500000   \n",
       "2017-09-08  82.919998  32.099998  191.479889  203.699997  47.970001   \n",
       "\n",
       "                   HUM        THC   VIVO         TFX        TECH  ...    \\\n",
       "date                                                              ...     \n",
       "2017-09-05  257.118713  17.690001  13.95  210.940002  121.150002  ...     \n",
       "2017-09-05  257.118713  17.690001  13.95  210.940002  121.150002  ...     \n",
       "2017-09-06  256.449860  17.150000  14.05  225.410004  121.660004  ...     \n",
       "2017-09-07  256.100433  16.950001  13.90  227.139999  120.620003  ...     \n",
       "2017-09-08  256.130371  16.600000  13.90  232.750000  119.910004  ...     \n",
       "\n",
       "             HOUST  UNRATENSA  EMRATIO  UEMPMED  UMCSENT  USSLIND  KCFSI  \\\n",
       "date                                                                       \n",
       "2017-09-05  1155.0        4.5     60.1     10.5     96.8     1.22  -0.73   \n",
       "2017-09-05  1155.0        4.5     60.1     10.5     96.8     1.22  -0.73   \n",
       "2017-09-06  1155.0        4.5     60.1     10.5     96.8     1.22  -0.73   \n",
       "2017-09-07  1155.0        4.5     60.1     10.5     96.8     1.22  -0.73   \n",
       "2017-09-08  1155.0        4.5     60.1     10.5     96.8     1.22  -0.73   \n",
       "\n",
       "               IPMAN  VIXCLS  DGS10  \n",
       "date                                 \n",
       "2017-09-05  104.1579   10.13   2.12  \n",
       "2017-09-05  104.1579   12.23   2.12  \n",
       "2017-09-06  104.1579   11.63   2.07  \n",
       "2017-09-07  104.1579   11.55   2.10  \n",
       "2017-09-08  104.1579   12.12   2.05  \n",
       "\n",
       "[5 rows x 59 columns]"
      ]
     },
     "execution_count": 5,
     "metadata": {},
     "output_type": "execute_result"
    }
   ],
   "source": [
    "indic_health.tail()"
   ]
  },
  {
   "cell_type": "code",
   "execution_count": 6,
   "metadata": {},
   "outputs": [
    {
     "data": {
      "image/png": "[encoded data removed]",
      "text/plain": [
       "<Figure size 432x288 with 1 Axes>"
      ]
     },
     "metadata": {
      "needs_background": "light"
     },
     "output_type": "display_data"
    },
    {
     "data": {
      "text/plain": [
       "0.023181177192084998"
      ]
     },
     "execution_count": 6,
     "metadata": {},
     "output_type": "execute_result"
    }
   ],
   "source": [
    "# assigning sector db to graph db\n",
    "graph = indic_utilities[['ED','UMCSENT']].dropna(how='any')\n",
    "\n",
    "# --- normalizing data - method 1 ---\n",
    "# graph['ED-norm'] = (graph['ED']-graph['ED'].mean())/graph['ED'].std()\n",
    "# graph['UM-norm'] = (graph['UMCSENT']-graph['UMCSENT'].mean())/graph['UMCSENT'].std()\n",
    "\n",
    "# --- normalizing data - method 2 ---\n",
    "# graph['ED-norm'] = np.log(graph['ED'])\n",
    "# graph['UM-norm'] = graph['UMCSENT']\n",
    "\n",
    "# --- normalizing data - method 3 ---\n",
    "graph['ED-norm'] = graph['ED'].pct_change()\n",
    "graph['UM-norm'] = graph['UMCSENT']\n",
    "\n",
    "# displaying data\n",
    "list = ['ED-norm','UM-norm']\n",
    "graph.plot(kind='line',y=list)\n",
    "plt.show()\n",
    "\n",
    "graph['ED-norm'].corr(graph['UM-norm'])\n",
    "\n",
    "# graph = indic_utilities[['ED','UNRATENSA']].dropna(how='any').pct_change()\n",
    "# list = ['ED','UNRATENSA']\n",
    "# graph.plot(kind='line',y=list)\n",
    "# plt.show()\n",
    "\n",
    "# graph['ED'].corr(graph['UNRATENSA'])"
   ]
  },
  {
   "cell_type": "code",
   "execution_count": 7,
   "metadata": {},
   "outputs": [
    {
     "data": {
      "image/png": "[encoded data removed]",
      "text/plain": [
       "<Figure size 432x288 with 1 Axes>"
      ]
     },
     "metadata": {
      "needs_background": "light"
     },
     "output_type": "display_data"
    }
   ],
   "source": [
    "sns.residplot(x='LLY', y='UNRATENSA', data=indic_health[300:])\n",
    "plt.show()"
   ]
  },
  {
   "cell_type": "code",
   "execution_count": 8,
   "metadata": {},
   "outputs": [
    {
     "name": "stdout",
     "output_type": "stream",
     "text": [
      "       nlog      nums\n",
      "0  0.929321  0.513274\n",
      "1  0.814709  0.769912\n",
      "2  0.774956  0.769912\n",
      "3  0.930981  0.769912\n",
      "4  0.926707  0.769912\n"
     ]
    },
    {
     "data": {
      "image/png": "[encoded data removed]",
      "text/plain": [
       "<Figure size 432x288 with 1 Axes>"
      ]
     },
     "metadata": {
      "needs_background": "light"
     },
     "output_type": "display_data"
    },
    {
     "data": {
      "text/plain": [
       "0.7064895502392984"
      ]
     },
     "execution_count": 8,
     "metadata": {},
     "output_type": "execute_result"
    }
   ],
   "source": [
    "# normalizing the data (indicators are fitted and stocks are: log of each ticker / row is summed / and then summed total is divided by ticker count)\n",
    "norm_indic = indic_health.copy()\n",
    "norm_indic['logsum'] = np.log(norm_indic.loc[:, 'LLY':'ADRO']).sum(axis=1)/len(healthcare.columns.tolist())\n",
    "\n",
    "norm_indic = norm_indic[['logsum','UMCSENT']].dropna(how='any')\n",
    "\n",
    "# normalizing data\n",
    "scaler = MinMaxScaler(feature_range=(0,1))\n",
    "normalized = scaler.fit_transform(norm_indic[['logsum','UMCSENT']])\n",
    "\n",
    "nlogsum = pd.Series(normalized[:,0])\n",
    "numcsent = pd.Series(normalized[:,1])\n",
    "list = [nlogsum,numcsent]\n",
    "\n",
    "norm_indic['nlogsum'] = nlogsum\n",
    "norm_indic['nums'] = numcsent\n",
    "final_norm = pd.concat(list,axis=1)\n",
    "final_norm.columns = ['nlog','nums']\n",
    "print(final_norm.head())\n",
    "\n",
    "final_norm[0:50].plot(kind='line',y=['nlog','nums'])\n",
    "plt.show()\n",
    "# graph.plot(kind='line',y=list)\n",
    "# plt.show()\n",
    "\n",
    "\n",
    "final_norm['nums'][0:50].corr(final_norm['nlog'])"
   ]
  },
  {
   "cell_type": "code",
   "execution_count": 9,
   "metadata": {},
   "outputs": [
    {
     "name": "stderr",
     "output_type": "stream",
     "text": [
      "/Users/ryan/.local/share/virtualenvs/data_science_projects-yURdgCV2/lib/python3.6/site-packages/scipy/stats/stats.py:1713: FutureWarning: Using a non-tuple sequence for multidimensional indexing is deprecated; use `arr[tuple(seq)]` instead of `arr[seq]`. In the future this will be interpreted as an array index, `arr[np.array(seq)]`, which will result either in an error or a different result.\n",
      "  return np.add.reduce(sorted[indexer] * weights, axis=axis) / sumval\n"
     ]
    },
    {
     "data": {
      "image/png": "[encoded data removed]",
      "text/plain": [
       "<Figure size 360x360 with 1 Axes>"
      ]
     },
     "metadata": {
      "needs_background": "light"
     },
     "output_type": "display_data"
    }
   ],
   "source": [
    "# sns.lmplot(x='index', y=['nums','nlog'], data=final_norm.reset_index())\n",
    "# plt.show()\n",
    "\n",
    "sns.lmplot(x='nlog', y='nums', data=final_norm[0:452])\n",
    "plt.show()"
   ]
  },
  {
   "cell_type": "code",
   "execution_count": 10,
   "metadata": {},
   "outputs": [
    {
     "name": "stdout",
     "output_type": "stream",
     "text": [
      "0.7064895502392985\n",
      "9.887167400852682e-09\n"
     ]
    }
   ],
   "source": [
    "# scipy module linear regression (Doesnt work)\n",
    "\n",
    "\n",
    "# running regression scipy\n",
    "x = normalized[:,0]\n",
    "y = normalized[:,1]\n",
    "\n",
    "x.tolist()\n",
    "y.tolist()\n",
    "\n",
    "\n",
    "slope, intercept, r_value, p_value, std_err = stats.linregress(x[0:50],y[0:50])\n",
    "\n",
    "print(r_value)\n",
    "print(p_value)"
   ]
  },
  {
   "cell_type": "code",
   "execution_count": 34,
   "metadata": {},
   "outputs": [
    {
     "data": {
      "image/png": "[encoded data removed]",
      "text/plain": [
       "<matplotlib.figure.Figure at 0x111723f60>"
      ]
     },
     "metadata": {},
     "output_type": "display_data"
    },
    {
     "data": {
      "text/plain": [
       "-0.0062404362608488506"
      ]
     },
     "execution_count": 34,
     "metadata": {},
     "output_type": "execute_result"
    }
   ],
   "source": [
    "# smf module ols regression (Maybe works?)\n",
    "\n",
    "logsum_pc = indic_utilities['ED'].pct_change()\n",
    "# unr_pc = indic_utilities['UNRATENSA'].pct_change()\n",
    "ols_model = smf.ols('ed_pc ~ unr_pc', ed_pc).fit()\n",
    "print(ols_model.summary())\n",
    "\n",
    "graph = indic_utilities[['ED','UMCSENT']].dropna(how='any')"
   ]
  },
  {
   "cell_type": "code",
   "execution_count": null,
   "metadata": {
    "collapsed": true
   },
   "outputs": [],
   "source": []
  }
 ],
 "metadata": {
  "kernelspec": {
   "display_name": "Python 3",
   "language": "python",
   "name": "python3"
  },
  "language_info": {
   "codemirror_mode": {
    "name": "ipython",
    "version": 3
   },
   "file_extension": ".py",
   "mimetype": "text/x-python",
   "name": "python",
   "nbconvert_exporter": "python",
   "pygments_lexer": "ipython3",
   "version": "3.6.1"
  }
 },
 "nbformat": 4,
 "nbformat_minor": 2
}
