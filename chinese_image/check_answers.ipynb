{
 "cells": [
  {
   "cell_type": "markdown",
   "metadata": {},
   "source": [
    "https://scikit-learn.org/stable/auto_examples/model_selection/plot_confusion_matrix.html#sphx-glr-auto-examples-model-selection-plot-confusion-matrix-py"
   ]
  },
  {
   "cell_type": "markdown",
   "metadata": {},
   "source": [
    "### Check Script Functions"
   ]
  },
  {
   "cell_type": "code",
   "execution_count": 111,
   "metadata": {},
   "outputs": [],
   "source": [
    "import pandas as pd\n",
    "import itertools\n",
    "import numpy as np\n",
    "import matplotlib.pyplot as plt\n",
    "from sklearn import svm, datasets\n",
    "from sklearn.model_selection import train_test_split\n",
    "from sklearn.metrics import confusion_matrix\n",
    "from sklearn.metrics import accuracy_score\n",
    "\n",
    "def plot_confusion_matrix(cm, classes,\n",
    "                          normalize=False,\n",
    "                          title='Confusion matrix',\n",
    "                          cmap=plt.cm.Blues):\n",
    "    \"\"\"\n",
    "    This function prints and plots the confusion matrix.\n",
    "    Normalization can be applied by setting `normalize=True`.\n",
    "    \"\"\"\n",
    "    if normalize:\n",
    "        cm = cm.astype('float') / cm.sum(axis=1)[:, np.newaxis]\n",
    "        print(\"Normalized confusion matrix\")\n",
    "    else:\n",
    "        print('Confusion matrix, without normalization')\n",
    "\n",
    "#     print(cm)\n",
    "\n",
    "    plt.imshow(cm, interpolation='nearest', cmap=cmap)\n",
    "    plt.title(title)\n",
    "    plt.colorbar()\n",
    "    tick_marks = np.arange(len(classes))\n",
    "    plt.xticks(tick_marks, classes, rotation=45)\n",
    "    plt.yticks(tick_marks, classes)\n",
    "\n",
    "    fmt = '.2f' if normalize else 'd'\n",
    "    thresh = cm.max() / 2.\n",
    "    for i, j in itertools.product(range(cm.shape[0]), range(cm.shape[1])):\n",
    "        plt.text(j, i, format(cm[i, j], fmt),\n",
    "                 horizontalalignment=\"center\",\n",
    "                 color=\"white\" if cm[i, j] > thresh else \"black\")\n",
    "\n",
    "    plt.ylabel('True')\n",
    "    plt.xlabel('Predicted')\n",
    "    plt.tight_layout()\n",
    "\n",
    "def check_script(source, sset):\n",
    "    if sset == 'char':\n",
    "        check_true = pd.read_csv('12-2-2018-char_hold_out.csv')\n",
    "        check_true.columns\n",
    "        del check_true['Unnamed: 0']\n",
    "        del check_true['new_fn']\n",
    "        check_true['old_fn'] = check_true['old_fn'].apply(lambda st: st[0:4])\n",
    "        truth = check_true['old_fn'].values\n",
    "        \n",
    "        pred = pd.read_csv(source)\n",
    "        pred = pred.iloc[:,-1].values\n",
    "           \n",
    "        print('\\033[1m% of Accurately Predicted Characters: {}'.format(accuracy_score(truth, pred)))\n",
    "        print('\\033[1m# of Accurately Predicted Characters: {}'.format(accuracy_score(truth, pred, normalize=False)))\n",
    "        \n",
    "    else:\n",
    "        check_true = pd.read_csv('12-2-2018-script_hold_out.csv')\n",
    "        check_true.columns\n",
    "        del check_true['Unnamed: 0']\n",
    "        del check_true['new_fn']\n",
    "        check_true['old_fn'] = check_true['old_fn'].apply(lambda st: st[10:-8])\n",
    "        class_names = check_true['old_fn'].unique()\n",
    "        truth = check_true['old_fn'].values\n",
    "        \n",
    "        pred = pd.read_csv(source)\n",
    "        pred = pred.iloc[:,-1].values\n",
    "        \n",
    "        cnf_matrix = confusion_matrix(truth, pred)\n",
    "        plt.figure()\n",
    "        plot_confusion_matrix(cnf_matrix, classes=class_names, normalize=True,\n",
    "                              title='Normalized confusion matrix')\n",
    "\n",
    "        plt.show()\n",
    "        \n",
    "        print('\\033[1mPercentage of Accurately Predicted Scripts: {}'.format(accuracy_score(truth, pred)))"
   ]
  },
  {
   "cell_type": "markdown",
   "metadata": {},
   "source": [
    "### Results"
   ]
  },
  {
   "cell_type": "code",
   "execution_count": 112,
   "metadata": {},
   "outputs": [
    {
     "name": "stdout",
     "output_type": "stream",
     "text": [
      "\u001b[1m% of Accurately Predicted Characters: 0.02\n",
      "\u001b[1m# of Accurately Predicted Characters: 1\n"
     ]
    }
   ],
   "source": [
    "check_script('example_char_predict.csv','char')"
   ]
  },
  {
   "cell_type": "code",
   "execution_count": null,
   "metadata": {},
   "outputs": [],
   "source": []
  }
 ],
 "metadata": {
  "kernelspec": {
   "display_name": "Python 3",
   "language": "python",
   "name": "python3"
  },
  "language_info": {
   "codemirror_mode": {
    "name": "ipython",
    "version": 3
   },
   "file_extension": ".py",
   "mimetype": "text/x-python",
   "name": "python",
   "nbconvert_exporter": "python",
   "pygments_lexer": "ipython3",
   "version": "3.6.7"
  }
 },
 "nbformat": 4,
 "nbformat_minor": 2
}
