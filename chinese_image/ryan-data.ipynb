{
 "cells": [
  {
   "cell_type": "raw",
   "metadata": {},
   "source": [
    "!pip install gapcv"
   ]
  },
  {
   "cell_type": "code",
   "execution_count": 4,
   "metadata": {},
   "outputs": [
    {
     "name": "stderr",
     "output_type": "stream",
     "text": [
      "Using TensorFlow backend.\n"
     ]
    }
   ],
   "source": [
    "from gapcv.vision import Image, Images\n",
    "from keras.callbacks import LambdaCallback\n",
    "import cv2"
   ]
  },
  {
   "cell_type": "code",
   "execution_count": 5,
   "metadata": {},
   "outputs": [],
   "source": [
    "import os\n",
    "import pandas as pd\n",
    "import numpy as np\n",
    "import math\n",
    "import matplotlib.pyplot as plt"
   ]
  },
  {
   "cell_type": "code",
   "execution_count": 6,
   "metadata": {},
   "outputs": [],
   "source": [
    "import keras\n",
    "from keras.applications.vgg16 import VGG16\n",
    "from keras import backend as K\n",
    "from keras.models import Sequential, load_model\n",
    "from keras.layers import activations, BatchNormalization\n",
    "from keras.layers.core import Flatten, Dense, Dropout\n",
    "from keras.optimizers import SGD, Adam\n",
    "from keras.metrics import categorical_crossentropy\n",
    "from keras import regularizers\n",
    "from keras.layers.convolutional import *\n",
    "from keras.callbacks import ModelCheckpoint"
   ]
  },
  {
   "cell_type": "code",
   "execution_count": 63,
   "metadata": {},
   "outputs": [],
   "source": [
    "images = Images('chinese/ch_train_set/',num_proc='all',config=['nostore','gray'],name='chinese')"
   ]
  },
  {
   "cell_type": "code",
   "execution_count": 8,
   "metadata": {},
   "outputs": [],
   "source": [
    "def convert_size(row):\n",
    "    if row == 0:\n",
    "        return \"0B\"\n",
    "    size_name = (\"B\", \"KB\", \"MB\", \"GB\", \"TB\", \"PB\", \"EB\", \"ZB\", \"YB\")\n",
    "    i = int(math.floor(math.log(row, 1024)))\n",
    "    p = math.pow(1024, i)\n",
    "    s = round(row / p, 2)\n",
    "    return \"{} {}\".format(s, size_name[i])"
   ]
  },
  {
   "cell_type": "code",
   "execution_count": 9,
   "metadata": {},
   "outputs": [
    {
     "data": {
      "text/plain": [
       "<gapcv.vision.Image at 0x12cf710f0>"
      ]
     },
     "execution_count": 9,
     "metadata": {},
     "output_type": "execute_result"
    }
   ],
   "source": [
    "images[1]"
   ]
  },
  {
   "cell_type": "code",
   "execution_count": 10,
   "metadata": {},
   "outputs": [
    {
     "data": {
      "text/plain": [
       "'chinese/ch_train//a440/a440-chuxi_002.png'"
      ]
     },
     "execution_count": 10,
     "metadata": {},
     "output_type": "execute_result"
    }
   ],
   "source": [
    "images[0].image"
   ]
  },
  {
   "cell_type": "code",
   "execution_count": 59,
   "metadata": {},
   "outputs": [
    {
     "data": {
      "text/html": [
       "<div>\n",
       "<style scoped>\n",
       "    .dataframe tbody tr th:only-of-type {\n",
       "        vertical-align: middle;\n",
       "    }\n",
       "\n",
       "    .dataframe tbody tr th {\n",
       "        vertical-align: top;\n",
       "    }\n",
       "\n",
       "    .dataframe thead th {\n",
       "        text-align: right;\n",
       "    }\n",
       "</style>\n",
       "<table border=\"1\" class=\"dataframe\">\n",
       "  <thead>\n",
       "    <tr style=\"text-align: right;\">\n",
       "      <th></th>\n",
       "      <th>image</th>\n",
       "      <th>img_class</th>\n",
       "      <th>label</th>\n",
       "      <th>name</th>\n",
       "      <th>rawshape</th>\n",
       "      <th>ressize</th>\n",
       "      <th>script</th>\n",
       "      <th>shape</th>\n",
       "      <th>size</th>\n",
       "      <th>type</th>\n",
       "      <th>size_max</th>\n",
       "      <th>size_min</th>\n",
       "    </tr>\n",
       "  </thead>\n",
       "  <tbody>\n",
       "    <tr>\n",
       "      <th>0</th>\n",
       "      <td>a440-chuxi_002.png</td>\n",
       "      <td>a440</td>\n",
       "      <td>0</td>\n",
       "      <td>a440-chuxi_002</td>\n",
       "      <td>(65, 79)</td>\n",
       "      <td>0</td>\n",
       "      <td>chuxi</td>\n",
       "      <td>(65, 79)</td>\n",
       "      <td>153</td>\n",
       "      <td>png</td>\n",
       "      <td>153</td>\n",
       "      <td>153</td>\n",
       "    </tr>\n",
       "    <tr>\n",
       "      <th>1</th>\n",
       "      <td>a440-chuxi_001.png</td>\n",
       "      <td>a440</td>\n",
       "      <td>0</td>\n",
       "      <td>a440-chuxi_001</td>\n",
       "      <td>(65, 79)</td>\n",
       "      <td>0</td>\n",
       "      <td>chuxi</td>\n",
       "      <td>(65, 79)</td>\n",
       "      <td>166</td>\n",
       "      <td>png</td>\n",
       "      <td>166</td>\n",
       "      <td>166</td>\n",
       "    </tr>\n",
       "    <tr>\n",
       "      <th>2</th>\n",
       "      <td>a440-chuxi_005.png</td>\n",
       "      <td>a440</td>\n",
       "      <td>0</td>\n",
       "      <td>a440-chuxi_005</td>\n",
       "      <td>(65, 79)</td>\n",
       "      <td>0</td>\n",
       "      <td>chuxi</td>\n",
       "      <td>(65, 79)</td>\n",
       "      <td>157</td>\n",
       "      <td>png</td>\n",
       "      <td>157</td>\n",
       "      <td>157</td>\n",
       "    </tr>\n",
       "  </tbody>\n",
       "</table>\n",
       "</div>"
      ],
      "text/plain": [
       "                image img_class label            name  rawshape ressize  \\\n",
       "0  a440-chuxi_002.png      a440     0  a440-chuxi_002  (65, 79)       0   \n",
       "1  a440-chuxi_001.png      a440     0  a440-chuxi_001  (65, 79)       0   \n",
       "2  a440-chuxi_005.png      a440     0  a440-chuxi_005  (65, 79)       0   \n",
       "\n",
       "  script     shape  size type  size_max  size_min  \n",
       "0  chuxi  (65, 79)   153  png       153       153  \n",
       "1  chuxi  (65, 79)   166  png       166       166  \n",
       "2  chuxi  (65, 79)   157  png       157       157  "
      ]
     },
     "execution_count": 59,
     "metadata": {},
     "output_type": "execute_result"
    }
   ],
   "source": [
    "dict_list={i:{'img_class':img.image.split('/')[-2],\n",
    "              'image':img.image.split('/')[-1],\n",
    "              'script':img.image.split('_')[1].split('-')[1],\n",
    "              'label':img.label,\n",
    "              'name':img.name,\n",
    "              'rawshape':img.rawshape,\n",
    "              'ressize':img.ressize,\n",
    "              'size':img.size,\n",
    "              'shape':img.shape,\n",
    "              'type':img.type\n",
    "             } for i, img in enumerate(images._data)}\n",
    "\n",
    "# get data frame\n",
    "train_set=pd.DataFrame(dict_list).T\n",
    "\n",
    "# fixed data types\n",
    "train_set['size'] = train_set['size'].astype('int')\n",
    "\n",
    "train_set['size_max']=train_set['size']\n",
    "train_set['size_min']=df['size']\n",
    "train_set.head(3)"
   ]
  },
  {
   "cell_type": "code",
   "execution_count": 60,
   "metadata": {},
   "outputs": [
    {
     "data": {
      "text/html": [
       "<div>\n",
       "<style scoped>\n",
       "    .dataframe tbody tr th:only-of-type {\n",
       "        vertical-align: middle;\n",
       "    }\n",
       "\n",
       "    .dataframe tbody tr th {\n",
       "        vertical-align: top;\n",
       "    }\n",
       "\n",
       "    .dataframe thead th {\n",
       "        text-align: right;\n",
       "    }\n",
       "</style>\n",
       "<table border=\"1\" class=\"dataframe\">\n",
       "  <thead>\n",
       "    <tr style=\"text-align: right;\">\n",
       "      <th></th>\n",
       "      <th>label</th>\n",
       "      <th>type</th>\n",
       "      <th>shape</th>\n",
       "      <th>img_class</th>\n",
       "      <th>script</th>\n",
       "      <th>image</th>\n",
       "      <th>size_avg</th>\n",
       "      <th>size_max</th>\n",
       "      <th>size_min</th>\n",
       "    </tr>\n",
       "  </thead>\n",
       "  <tbody>\n",
       "    <tr>\n",
       "      <th>0</th>\n",
       "      <td>0</td>\n",
       "      <td>png</td>\n",
       "      <td>(65, 79)</td>\n",
       "      <td>a440</td>\n",
       "      <td>chuxi</td>\n",
       "      <td>219</td>\n",
       "      <td>161.65 B</td>\n",
       "      <td>223.0 B</td>\n",
       "      <td>130.0 B</td>\n",
       "    </tr>\n",
       "    <tr>\n",
       "      <th>1</th>\n",
       "      <td>0</td>\n",
       "      <td>png</td>\n",
       "      <td>(65, 79)</td>\n",
       "      <td>a440</td>\n",
       "      <td>jinwen</td>\n",
       "      <td>15</td>\n",
       "      <td>135.53 B</td>\n",
       "      <td>171.0 B</td>\n",
       "      <td>96.0 B</td>\n",
       "    </tr>\n",
       "    <tr>\n",
       "      <th>2</th>\n",
       "      <td>0</td>\n",
       "      <td>png</td>\n",
       "      <td>(65, 79)</td>\n",
       "      <td>a440</td>\n",
       "      <td>smallseal</td>\n",
       "      <td>2</td>\n",
       "      <td>165.5 B</td>\n",
       "      <td>231.0 B</td>\n",
       "      <td>100.0 B</td>\n",
       "    </tr>\n",
       "    <tr>\n",
       "      <th>3</th>\n",
       "      <td>1</td>\n",
       "      <td>png</td>\n",
       "      <td>(65, 79)</td>\n",
       "      <td>a447</td>\n",
       "      <td>chuxi</td>\n",
       "      <td>171</td>\n",
       "      <td>205.74 B</td>\n",
       "      <td>315.0 B</td>\n",
       "      <td>174.0 B</td>\n",
       "    </tr>\n",
       "    <tr>\n",
       "      <th>4</th>\n",
       "      <td>1</td>\n",
       "      <td>png</td>\n",
       "      <td>(65, 79)</td>\n",
       "      <td>a447</td>\n",
       "      <td>jinwen</td>\n",
       "      <td>22</td>\n",
       "      <td>172.36 B</td>\n",
       "      <td>216.0 B</td>\n",
       "      <td>135.0 B</td>\n",
       "    </tr>\n",
       "  </tbody>\n",
       "</table>\n",
       "</div>"
      ],
      "text/plain": [
       "   label type     shape img_class     script  image  size_avg size_max  \\\n",
       "0      0  png  (65, 79)      a440      chuxi    219  161.65 B  223.0 B   \n",
       "1      0  png  (65, 79)      a440     jinwen     15  135.53 B  171.0 B   \n",
       "2      0  png  (65, 79)      a440  smallseal      2   165.5 B  231.0 B   \n",
       "3      1  png  (65, 79)      a447      chuxi    171  205.74 B  315.0 B   \n",
       "4      1  png  (65, 79)      a447     jinwen     22  172.36 B  216.0 B   \n",
       "\n",
       "  size_min  \n",
       "0  130.0 B  \n",
       "1   96.0 B  \n",
       "2  100.0 B  \n",
       "3  174.0 B  \n",
       "4  135.0 B  "
      ]
     },
     "execution_count": 60,
     "metadata": {},
     "output_type": "execute_result"
    }
   ],
   "source": [
    "train_set_grouped=train_set.pivot_table(index=['label','type','shape','img_class','script'],\n",
    "                   values=['image','size_max','size','size_min'],\n",
    "                   aggfunc={'image':len,'size_max':max,'size':np.mean,'size_min':min}\n",
    "                  )\n",
    "\n",
    "train_set_grouped.reset_index(inplace=True)\n",
    "\n",
    "train_set_grouped.rename(columns={'size':'size_avg', 'time':'time_avg'}, inplace = True)\n",
    "train_set_grouped['size_avg']=train_set_grouped.apply(lambda row: convert_size(row['size_avg']), axis=1)\n",
    "train_set_grouped['size_max']=train_set_grouped.apply(lambda row: convert_size(row['size_max']), axis=1)\n",
    "train_set_grouped['size_min']=train_set_grouped.apply(lambda row: convert_size(row['size_min']), axis=1)\n",
    "train_set_grouped.head()"
   ]
  },
  {
   "cell_type": "code",
   "execution_count": 61,
   "metadata": {},
   "outputs": [
    {
     "data": {
      "text/plain": [
       "array(['a440', 'a440', 'a440', 'a447', 'a447', 'a447', 'a448', 'a448',\n",
       "       'a448', 'a44a', 'a44a', 'a44a', 'a451', 'a451', 'a451', 'a453',\n",
       "       'a453', 'a453', 'a454', 'a454', 'a454', 'a455', 'a455', 'a455',\n",
       "       'a455', 'a457', 'a457', 'a457', 'a457', 'a45d', 'a45d', 'a45f',\n",
       "       'a45f', 'a45f', 'a464', 'a464', 'a464', 'a466', 'a466', 'a467',\n",
       "       'a467', 'a467', 'a46a', 'a46a', 'a46a', 'a46b', 'a46b', 'a46b',\n",
       "       'a46c', 'a46c', 'a46c', 'a46c', 'a470', 'a470', 'a473', 'a473',\n",
       "       'a473', 'a474', 'a474', 'a474', 'a475', 'a475', 'a475', 'a476',\n",
       "       'a476', 'a476', 'a477', 'a4a3', 'a4a3', 'a4a3', 'a4a4', 'a4a4',\n",
       "       'a4a4', 'a4a4', 'a4a7', 'a4a7', 'a4a7', 'a4bd', 'a4bd', 'a4bd',\n",
       "       'a4c0', 'a4c0', 'a4c0', 'a4c6', 'a4c6', 'a4ce', 'a4ce', 'a4ce',\n",
       "       'a4ce', 'a4d1', 'a4d1', 'a4d1', 'a4d2', 'a4d2', 'a4d2', 'a4e2',\n",
       "       'a4e2', 'a4e5', 'a4e5', 'a4e5', 'a4e8', 'a4e8', 'a4e8', 'a4e8',\n",
       "       'a4e9', 'a4e9', 'a4e9', 'a4e9', 'a4eb', 'a4eb', 'a4eb', 'a4ec',\n",
       "       'a4ec', 'a4ec', 'a4f1', 'a4f1', 'a4f1', 'a4f1', 'a4f4', 'a4f4',\n",
       "       'a4f4', 'a4f5', 'a4f5', 'a4fb', 'a4fb', 'a4fb', 'a4fd', 'a4fd',\n",
       "       'a4fd', 'a4fd', 'a540', 'a548', 'a548', 'a548', 'a54e', 'a558',\n",
       "       'a558', 'a558', 'a55b', 'a55b', 'a568', 'a568', 'a569', 'a569',\n",
       "       'a569', 'a56b', 'a56b', 'a57e', 'a57e', 'a57e', 'a5a6', 'a5a6',\n",
       "       'a5a6', 'a5a6', 'a5aa', 'a5aa', 'a5aa', 'a5bb', 'a5bb', 'a5bf',\n",
       "       'a5bf', 'a5bf', 'a5bf', 'a5c1', 'a5c1', 'a5c1', 'a5c9', 'a5c9',\n",
       "       'a5c9', 'a5ce', 'a5ce', 'a5ce', 'a5ce', 'a5d0', 'a5d0', 'a5d0',\n",
       "       'a5d1', 'a5d1', 'a5d5', 'a5d5', 'a5d5', 'a5d5', 'a5d8', 'a5d8',\n",
       "       'a5d8', 'a5db', 'a5db', 'a5db', 'a5df', 'a5df', 'a5df', 'a5f4',\n",
       "       'a5f4', 'a5fd', 'a5fd', 'a5fd', 'a5fe', 'a5fe', 'a650', 'a650',\n",
       "       'a650', 'a656', 'a656', 'a656', 'a658', 'a658', 'a658', 'a65a',\n",
       "       'a65d', 'a65d', 'a65d', 'a65e', 'a65e', 'a661', 'a662', 'a668',\n",
       "       'a668', 'a668', 'a668', 'a670', 'a670', 'a67d', 'a67d', 'a67d',\n",
       "       'a67e', 'a67e', 'a67e', 'a6a8', 'a6a8', 'a6a8', 'a6a8', 'a6b3',\n",
       "       'a6b3', 'a6b8', 'a6b8', 'a6b8', 'a6b9', 'a6b9', 'a6b9', 'a6ca',\n",
       "       'a6ca', 'a6ca', 'a6ca', 'a6cc', 'a6cc', 'a6d1', 'a6d1', 'a6d1',\n",
       "       'a6d3', 'a6d3', 'a6d3', 'a6d5', 'a6d5', 'a6d5', 'a6d7', 'a6d7',\n",
       "       'a6db', 'a6db', 'a6db', 'a6db', 'a6e4', 'a6e6', 'a6e6', 'a6e6',\n",
       "       'a6e7', 'a6e7', 'a6e7', 'a6e8', 'a6e8', 'a6e8', 'a6e8', 'a6ec',\n",
       "       'a6fd', 'a740', 'a751', 'a751', 'a751', 'a751', 'a7da', 'a7da',\n",
       "       'a7da', 'a86b', 'a86b', 'a8a3', 'a8a3', 'a8a3', 'a8a7', 'a8a7',\n",
       "       'a8a7', 'a8a7', 'a8ad', 'a8ad', 'a8ad', 'a8ae', 'a8ae', 'a8ae',\n",
       "       'a8ae', 'a8bd', 'a8bd', 'a8c3', 'a8c3', 'a8c3', 'a8c6', 'a8c6',\n",
       "       'a8c6', 'a8cf', 'a8d3', 'a8d3', 'a8d3', 'a8e0', 'a8e0', 'a8e2',\n",
       "       'a8e2', 'a8e4', 'a8e4', 'a8e4', 'a8e4', 'a8ee', 'a8ee', 'a94d',\n",
       "       'a94d', 'a977', 'a977', 'a9ce', 'a9ce', 'a9ce', 'a9d2', 'a9d2',\n",
       "       'a9fa', 'a9fa', 'a9fa', 'a9fa', 'aa46', 'aa46', 'aa46', 'aa47',\n",
       "       'aa47', 'aa47', 'aa6b', 'aaaf', 'aabe', 'aacc', 'aacc', 'aaed',\n",
       "       'aaed', 'aaf7', 'aaf7', 'aaf7', 'aaf8', 'aaf8', 'aaf8', 'aaf8',\n",
       "       'aaf9', 'aaf9', 'aaf9', 'ab42', 'ab42', 'ab42', 'ab42', 'ab48',\n",
       "       'ab48', 'ab65', 'ac46', 'ac46', 'acdb', 'acdb', 'acdb', 'acdd',\n",
       "       'acf5', 'acfc', 'acfc', 'ad6e', 'ad78', 'ad78', 'adab', 'adb1',\n",
       "       'adb1', 'adec', 'adec', 'adfb', 'adfb', 'adfb', 'adfb', 'ae61',\n",
       "       'ae61', 'ae61', 'ae61', 'aef0', 'aefc', 'afe0', 'afe0', 'b05f',\n",
       "       'b05f', 'b0a8', 'b0a8', 'b0a8', 'b0a8', 'b0aa', 'b0aa', 'b0aa',\n",
       "       'b0dd', 'b0ea', 'b0ea', 'b160', 'b160', 'b16f', 'b16f', 'b16f',\n",
       "       'b16f', 'b1d0', 'b1d0', 'b1d0', 'b1d0', 'b351', 'b371', 'b3a3',\n",
       "       'b3a3', 'b3bd', 'b3bd', 'b3bd', 'b3be', 'b3be', 'b44e', 'b44e',\n",
       "       'b4b5', 'b4b5', 'b54c', 'b54c', 'b54d', 'b54d', 'b54d', 'b5a5',\n",
       "       'b5e6', 'b6ba', 'b6c0', 'b6c0', 'b6c0', 'b6c0', 'b6c2', 'b6c2',\n",
       "       'b6c2', 'b74e', 'b773', 'b773', 'b773', 'b77e', 'b77e', 'b8dc',\n",
       "       'b944', 'b944', 'b944', 'bb44', 'bb44', 'bb44', 'bb50', 'bb50',\n",
       "       'bb50', 'bdde', 'bec7', 'bec7', 'bec7', 'bed4', 'c059', 'c0b3',\n",
       "       'c16e', 'c2c5', 'c2fb', 'c2fb', 'c3f6', 'c9f3'], dtype=object)"
      ]
     },
     "execution_count": 61,
     "metadata": {},
     "output_type": "execute_result"
    }
   ],
   "source": [
    "train_set_grouped['img_class'].values"
   ]
  },
  {
   "cell_type": "code",
   "execution_count": 14,
   "metadata": {},
   "outputs": [],
   "source": [
    "n,c = df2['label'].values, df2['image'].values"
   ]
  },
  {
   "cell_type": "code",
   "execution_count": 15,
   "metadata": {},
   "outputs": [
    {
     "data": {
      "image/png": "[encoded data removed]",
      "text/plain": [
       "<Figure size 1440x360 with 1 Axes>"
      ]
     },
     "metadata": {
      "needs_background": "light"
     },
     "output_type": "display_data"
    }
   ],
   "source": [
    "plt.figure(figsize=(20,5))\n",
    "plt.bar(n,c)\n",
    "plt.show()"
   ]
  },
  {
   "cell_type": "code",
   "execution_count": 16,
   "metadata": {},
   "outputs": [],
   "source": [
    "images.split = 0.2\n",
    "X_train, X_test, Y_train, Y_test = images.split"
   ]
  },
  {
   "cell_type": "code",
   "execution_count": 17,
   "metadata": {},
   "outputs": [
    {
     "data": {
      "image/png": "[encoded data removed]",
      "text/plain": [
       "<Figure size 864x864 with 16 Axes>"
      ]
     },
     "metadata": {
      "needs_background": "light"
     },
     "output_type": "display_data"
    }
   ],
   "source": [
    "fig=plt.figure(figsize=(12, 12))\n",
    "columns = 4\n",
    "rows = 4\n",
    "for i in range(1, columns*rows +1):\n",
    "    img_show=X_train[i]\n",
    "    fig.add_subplot(rows, columns, i)\n",
    "    plt.axis('off')\n",
    "    plt.imshow(img_show)\n",
    "plt.show()"
   ]
  },
  {
   "cell_type": "markdown",
   "metadata": {},
   "source": [
    "### My Model for Keras (different shape)"
   ]
  },
  {
   "cell_type": "raw",
   "metadata": {},
   "source": [
    "X1_sh,X2_sh = X_train.shape,X_test.shape\n",
    "X_train, X_test = X_train.reshape(X1_sh[0],X1_sh[1],X1_sh[2],1),X_test.reshape(X2_sh[0],X2_sh[1],X2_sh[2],1)"
   ]
  },
  {
   "cell_type": "code",
   "execution_count": 19,
   "metadata": {},
   "outputs": [],
   "source": [
    "X_train,X_test = X_train.reshape(X_train.shape[0],65,79,1),X_test.reshape(X_test.shape[0],65,79,1)"
   ]
  },
  {
   "cell_type": "code",
   "execution_count": 20,
   "metadata": {},
   "outputs": [],
   "source": [
    "batch_size = 64\n",
    "num_classes = Y_train.shape[1]\n",
    "epochs = 20\n",
    "input_shape = X_train.shape[1:]"
   ]
  },
  {
   "cell_type": "markdown",
   "metadata": {},
   "source": [
    "_Keras Layers template: [MNIST for Beginners](https://www.kaggle.com/adityaecdrid/mnist-with-keras-for-beginners-99457)_"
   ]
  },
  {
   "cell_type": "code",
   "execution_count": 21,
   "metadata": {},
   "outputs": [],
   "source": [
    "from keras.callbacks import Callback"
   ]
  },
  {
   "cell_type": "code",
   "execution_count": 22,
   "metadata": {},
   "outputs": [],
   "source": [
    "model = Sequential()\n",
    "model.add(Conv2D(64, kernel_size=(3, 3),activation='relu',kernel_initializer='RandomNormal',input_shape=(65,79,1,)))\n",
    "model.add(Conv2D(32, kernel_size=(3, 3),activation='relu',kernel_initializer='RandomNormal', kernel_regularizer=regularizers.l2(0.3)))\n",
    "model.add(MaxPooling2D((2, 2)))\n",
    "model.add(Dropout(0.20))\n",
    "model.add(Conv2D(64, (3, 3), activation='relu',padding='same',kernel_initializer='RandomNormal', kernel_regularizer=regularizers.l2(0.3)))\n",
    "model.add(Conv2D(64, (3, 3), activation='relu',padding='same',kernel_initializer='RandomNormal', kernel_regularizer=regularizers.l2(0.2)))\n",
    "model.add(MaxPooling2D(pool_size=(2, 2)))\n",
    "model.add(Dropout(0.25))\n",
    "model.add(Conv2D(128, (3, 3), activation='relu',padding='same',kernel_initializer='RandomNormal',kernel_regularizer=regularizers.l2(0.2)))\n",
    "model.add(Dropout(0.25))\n",
    "model.add(Flatten())\n",
    "model.add(Dense(128, activation='relu',kernel_regularizer=regularizers.l2(0.2)))\n",
    "model.add(BatchNormalization())\n",
    "model.add(Dropout(0.25))\n",
    "model.add(Dense(num_classes, activation='softmax'))\n",
    "\n",
    "# checkpoint\n",
    "# filepath=\"weights-improvement-{epoch:02d}.hdf5\"\n",
    "# checkpoint = ModelCheckpoint(filepath, verbose=1, save_best_only=True, mode='max')\n",
    "# print_weights = LambdaCallback(on_epoch_end=lambda batch, logs: print(model.layers[0].get_weights()))\n",
    "\n",
    "# callbacks_list = [checkpoint]\n",
    "\n",
    "\n",
    "\n",
    "model.compile(loss=keras.losses.categorical_crossentropy,\n",
    "              optimizer=keras.optimizers.RMSprop(),\n",
    "              metrics=['accuracy'])"
   ]
  },
  {
   "cell_type": "code",
   "execution_count": 23,
   "metadata": {},
   "outputs": [
    {
     "name": "stdout",
     "output_type": "stream",
     "text": [
      "Epoch 1/3\n",
      "6712/6712 [==============================] - 185s 28ms/step - loss: 15.5054 - acc: 0.3269\n",
      "Epoch 2/3\n",
      "6712/6712 [==============================] - 194s 29ms/step - loss: 4.1833 - acc: 0.4388\n",
      "Epoch 3/3\n",
      "6712/6712 [==============================] - 182s 27ms/step - loss: 3.9062 - acc: 0.4924\n"
     ]
    },
    {
     "data": {
      "text/plain": [
       "<keras.callbacks.History at 0x13c4062b0>"
      ]
     },
     "execution_count": 23,
     "metadata": {},
     "output_type": "execute_result"
    }
   ],
   "source": [
    "model.fit(X_train,Y_train,epochs=3)"
   ]
  },
  {
   "cell_type": "code",
   "execution_count": 24,
   "metadata": {},
   "outputs": [
    {
     "name": "stdout",
     "output_type": "stream",
     "text": [
      "1679/1679 [==============================] - 15s 9ms/step\n"
     ]
    },
    {
     "data": {
      "text/plain": [
       "[4.157112616311233, 0.47349612877225505]"
      ]
     },
     "execution_count": 24,
     "metadata": {},
     "output_type": "execute_result"
    }
   ],
   "source": [
    "model.evaluate(X_test,Y_test)"
   ]
  },
  {
   "cell_type": "raw",
   "metadata": {},
   "source": [
    "answers = [labels[a.argmax()] for a in answers]\n",
    "answers = model.predict(X_test_fixed)\n",
    "answers = [labels[a.argmax()] for a in answers]\n",
    "y_answer = [labels[y.argmax()] for y in Y_test]"
   ]
  },
  {
   "cell_type": "code",
   "execution_count": 25,
   "metadata": {},
   "outputs": [],
   "source": [
    "prediction_set = Images('chinese/ch_test/', config=['nostore','gray'])\n",
    "final_images = np.array([im._imgdata.reshape(65,79,1) for im in prediction_set._data[:]])\n",
    "final_labels = np.array([im.name for im in prediction_set])\n",
    "pred = model.predict(final_images)"
   ]
  },
  {
   "cell_type": "code",
   "execution_count": 26,
   "metadata": {},
   "outputs": [],
   "source": [
    "actual_labels = df2['img_class'].values\n",
    "actual_label = [prediction_set[i].name for i in range(len(prediction_set))]\n",
    "pred_label = [final_labels[p.argmax()] for p in pred]"
   ]
  },
  {
   "cell_type": "raw",
   "metadata": {},
   "source": [
    "[p.argmax() for p in pred]"
   ]
  },
  {
   "cell_type": "code",
   "execution_count": 27,
   "metadata": {},
   "outputs": [
    {
     "name": "stdout",
     "output_type": "stream",
     "text": [
      "0: CORRECT!\n",
      "1: WRONG!\n",
      "2: WRONG!\n",
      "3: WRONG!\n",
      "4: WRONG!\n",
      "5: WRONG!\n",
      "6: WRONG!\n",
      "7: WRONG!\n",
      "8: WRONG!\n",
      "9: WRONG!\n",
      "10: WRONG!\n",
      "11: WRONG!\n",
      "12: WRONG!\n",
      "13: WRONG!\n",
      "14: WRONG!\n",
      "15: WRONG!\n",
      "16: WRONG!\n",
      "17: WRONG!\n",
      "18: WRONG!\n",
      "19: WRONG!\n"
     ]
    }
   ],
   "source": [
    "v = 0\n",
    "for i in range(20):\n",
    "    if actual_label[i] == pred_label[i]:\n",
    "        v+=1\n",
    "        print('{}: CORRECT!'.format(i))\n",
    "    else:\n",
    "        print('{}: WRONG!'.format(i))\n",
    "# print(v,v/200)"
   ]
  },
  {
   "cell_type": "code",
   "execution_count": 28,
   "metadata": {},
   "outputs": [
    {
     "data": {
      "text/plain": [
       "'a55b'"
      ]
     },
     "execution_count": 28,
     "metadata": {},
     "output_type": "execute_result"
    }
   ],
   "source": [
    "im=Image('chinese/19981.gif',config=['resize=(65,79)','gray'])\n",
    "im = im.data.reshape(65,79,1)\n",
    "im = np.expand_dims(im,axis=0)\n",
    "pred = model.predict(im).argmax()\n",
    "actual_labels[pred]"
   ]
  },
  {
   "cell_type": "code",
   "execution_count": 29,
   "metadata": {},
   "outputs": [
    {
     "data": {
      "text/plain": [
       "'a9fa'"
      ]
     },
     "execution_count": 29,
     "metadata": {},
     "output_type": "execute_result"
    }
   ],
   "source": [
    "im=Image('chinese/a4a3-real.jpg',config=['resize=(65,79)','gray'])\n",
    "im = im.data.reshape(65,79,1)\n",
    "im = np.expand_dims(im,axis=0)\n",
    "pred = model.predict(im).argmax()\n",
    "actual_labels[pred]"
   ]
  }
 ],
 "metadata": {
  "kernelspec": {
   "display_name": "Python 3",
   "language": "python",
   "name": "python3"
  },
  "language_info": {
   "codemirror_mode": {
    "name": "ipython",
    "version": 3
   },
   "file_extension": ".py",
   "mimetype": "text/x-python",
   "name": "python",
   "nbconvert_exporter": "python",
   "pygments_lexer": "ipython3",
   "version": "3.6.1"
  }
 },
 "nbformat": 4,
 "nbformat_minor": 2
}
